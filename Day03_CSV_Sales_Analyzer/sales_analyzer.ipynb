{
 "cells": [
  {
   "cell_type": "code",
   "execution_count": 2,
   "id": "d97dd7e8",
   "metadata": {},
   "outputs": [],
   "source": [
    "import pandas as pd   \n",
    "import matplotlib.pyplot as plt"
   ]
  },
  {
   "cell_type": "markdown",
   "id": "b1bbb7d6",
   "metadata": {},
   "source": []
  },
  {
   "cell_type": "code",
   "execution_count": 3,
   "id": "ecce0974",
   "metadata": {},
   "outputs": [
    {
     "data": {
      "text/html": [
       "<div>\n",
       "<style scoped>\n",
       "    .dataframe tbody tr th:only-of-type {\n",
       "        vertical-align: middle;\n",
       "    }\n",
       "\n",
       "    .dataframe tbody tr th {\n",
       "        vertical-align: top;\n",
       "    }\n",
       "\n",
       "    .dataframe thead th {\n",
       "        text-align: right;\n",
       "    }\n",
       "</style>\n",
       "<table border=\"1\" class=\"dataframe\">\n",
       "  <thead>\n",
       "    <tr style=\"text-align: right;\">\n",
       "      <th></th>\n",
       "      <th>date</th>\n",
       "      <th>product</th>\n",
       "      <th>quantity</th>\n",
       "      <th>price</th>\n",
       "      <th>sales</th>\n",
       "    </tr>\n",
       "  </thead>\n",
       "  <tbody>\n",
       "    <tr>\n",
       "      <th>0</th>\n",
       "      <td>2025-02-10</td>\n",
       "      <td>Widget A</td>\n",
       "      <td>1</td>\n",
       "      <td>199.0</td>\n",
       "      <td>199.0</td>\n",
       "    </tr>\n",
       "    <tr>\n",
       "      <th>1</th>\n",
       "      <td>2025-01-16</td>\n",
       "      <td>Widget B</td>\n",
       "      <td>3</td>\n",
       "      <td>99.0</td>\n",
       "      <td>297.0</td>\n",
       "    </tr>\n",
       "    <tr>\n",
       "      <th>2</th>\n",
       "      <td>2025-02-13</td>\n",
       "      <td>Widget A</td>\n",
       "      <td>10</td>\n",
       "      <td>249.0</td>\n",
       "      <td>2490.0</td>\n",
       "    </tr>\n",
       "    <tr>\n",
       "      <th>3</th>\n",
       "      <td>2025-01-03</td>\n",
       "      <td>Widget A</td>\n",
       "      <td>2</td>\n",
       "      <td>149.5</td>\n",
       "      <td>299.0</td>\n",
       "    </tr>\n",
       "    <tr>\n",
       "      <th>4</th>\n",
       "      <td>2025-01-15</td>\n",
       "      <td>Widget A</td>\n",
       "      <td>9</td>\n",
       "      <td>149.5</td>\n",
       "      <td>1345.5</td>\n",
       "    </tr>\n",
       "  </tbody>\n",
       "</table>\n",
       "</div>"
      ],
      "text/plain": [
       "         date   product  quantity  price   sales\n",
       "0  2025-02-10  Widget A         1  199.0   199.0\n",
       "1  2025-01-16  Widget B         3   99.0   297.0\n",
       "2  2025-02-13  Widget A        10  249.0  2490.0\n",
       "3  2025-01-03  Widget A         2  149.5   299.0\n",
       "4  2025-01-15  Widget A         9  149.5  1345.5"
      ]
     },
     "execution_count": 3,
     "metadata": {},
     "output_type": "execute_result"
    }
   ],
   "source": [
    "df=pd.read_csv(\"sample_sales.csv\")\n",
    "df.head()"
   ]
  },
  {
   "cell_type": "code",
   "execution_count": 4,
   "id": "cbf9f3d4",
   "metadata": {},
   "outputs": [
    {
     "name": "stdout",
     "output_type": "stream",
     "text": [
      "Total sales :56809.0\n"
     ]
    }
   ],
   "source": [
    "\n",
    "Total_sales=df['sales'].sum()\n",
    "print(f'Total sales :{Total_sales}')"
   ]
  },
  {
   "cell_type": "markdown",
   "id": "e611a053",
   "metadata": {},
   "source": [
    "### Step 4: Group by Product"
   ]
  },
  {
   "cell_type": "code",
   "execution_count": 5,
   "id": "19dbe800",
   "metadata": {},
   "outputs": [
    {
     "data": {
      "text/plain": [
       "product\n",
       "Gadget D    15674.0\n",
       "Widget A    14924.5\n",
       "Gadget C    13632.0\n",
       "Widget B    12578.5\n",
       "Name: sales, dtype: float64"
      ]
     },
     "execution_count": 5,
     "metadata": {},
     "output_type": "execute_result"
    }
   ],
   "source": [
    "grouped=df.groupby('product')['sales'].sum().sort_values(ascending=False)\n",
    "grouped"
   ]
  },
  {
   "cell_type": "markdown",
   "id": "86c250f6",
   "metadata": {},
   "source": [
    "### Step 5: Best-selling product"
   ]
  },
  {
   "cell_type": "code",
   "execution_count": 6,
   "id": "5e6050fb",
   "metadata": {},
   "outputs": [
    {
     "data": {
      "text/plain": [
       "np.float64(15674.0)"
      ]
     },
     "execution_count": 6,
     "metadata": {},
     "output_type": "execute_result"
    }
   ],
   "source": [
    "Best_product=grouped.max()\n",
    "Best_product"
   ]
  },
  {
   "cell_type": "markdown",
   "id": "b49791bc",
   "metadata": {},
   "source": [
    "### Step 6: Plot revenue by product"
   ]
  },
  {
   "cell_type": "code",
   "execution_count": 7,
   "id": "cf973c91",
   "metadata": {},
   "outputs": [
    {
     "data": {
      "text/plain": [
       "<function matplotlib.pyplot.show(close=None, block=None)>"
      ]
     },
     "execution_count": 7,
     "metadata": {},
     "output_type": "execute_result"
    },
    {
     "data": {
      "image/png": "[encoded data removed]",
      "text/plain": [
       "<Figure size 640x480 with 1 Axes>"
      ]
     },
     "metadata": {},
     "output_type": "display_data"
    }
   ],
   "source": [
    "grouped.plot(kind='bar', title='Revenue by Product')\n",
    "plt.ylabel('sales')\n",
    "plt.show"
   ]
  }
 ],
 "metadata": {
  "kernelspec": {
   "display_name": "Python 3",
   "language": "python",
   "name": "python3"
  },
  "language_info": {
   "codemirror_mode": {
    "name": "ipython",
    "version": 3
   },
   "file_extension": ".py",
   "mimetype": "text/x-python",
   "name": "python",
   "nbconvert_exporter": "python",
   "pygments_lexer": "ipython3",
   "version": "3.12.3"
  }
 },
 "nbformat": 4,
 "nbformat_minor": 5
}
