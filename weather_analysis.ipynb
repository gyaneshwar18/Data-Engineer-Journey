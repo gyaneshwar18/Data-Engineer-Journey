{
 "cells": [
  {
   "cell_type": "markdown",
   "id": "ff74cc53",
   "metadata": {},
   "source": [
    "# Day 04 – Weather Data Analyzer (Pandas + CSV)\n",
    "\n",
    "This notebook loads a weather CSV, handles missing values, finds the hottest day, and computes average temperature per city."
   ]
  },
  {
   "cell_type": "markdown",
   "id": "5ddeebb7",
   "metadata": {},
   "source": [
    "## 1) Imports and settings\n",
    "\n",
    "We use Pandas for data handling and Matplotlib for plotting."
   ]
  },
  {
   "cell_type": "code",
   "execution_count": null,
   "id": "0d213557",
   "metadata": {},
   "outputs": [],
   "source": [
    "import pandas as pd\n",
    "import numpy as np\n",
    "from pathlib import Path\n",
    "import matplotlib.pyplot as plt\n",
    "\n",
    "DATA_FILE = Path('weather.csv')  # preferred filename\n",
    "SAMPLE_FILE = Path('sample_weather.csv')\n",
    "\n",
    "pd.options.display.max_rows = 20\n",
    "pd.options.display.max_columns = 10\n"
   ]
  },
  {
   "cell_type": "markdown",
   "id": "8eb80e65",
   "metadata": {},
   "source": [
    "## 2) Load data\n",
    "\n",
    "If `weather.csv` exists it will be used; otherwise the sample CSV will be copied to `weather.csv`. The notebook normalizes column names and coerces numeric columns."
   ]
  },
  {
   "cell_type": "code",
   "execution_count": null,
   "id": "5e9d71c4",
   "metadata": {},
   "outputs": [],
   "source": [
    "# Load CSV (use user's weather.csv if present; otherwise use sample)\n",
    "path = DATA_FILE\n",
    "if not path.exists():\n",
    "    if SAMPLE_FILE.exists():\n",
    "        df = pd.read_csv(SAMPLE_FILE)\n",
    "        df.to_csv(path, index=False)\n",
    "        print(\"No weather.csv found — copied sample_weather.csv to weather.csv\")\n",
    "    else:\n",
    "        raise FileNotFoundError(\"No weather.csv or sample_weather.csv found in folder.\")\n",
    "\n",
    "df = pd.read_csv(path)\n",
    "# normalize columns\n",
    "df.columns = [c.strip().lower() for c in df.columns]\n",
    "# parse date\n",
    "if 'date' in df.columns:\n",
    "    df['date'] = pd.to_datetime(df['date'], errors='coerce')\n",
    "# coerce numeric\n",
    "for col in ['temp','humidity']:\n",
    "    if col in df.columns:\n",
    "        df[col] = pd.to_numeric(df[col], errors='coerce')\n",
    "\n",
    "print('Loaded rows:', len(df))\n",
    "df.head()"
   ]
  },
  {
   "cell_type": "markdown",
   "id": "42b63dfe",
   "metadata": {},
   "source": [
    "## 3) Inspect missing values\n",
    "\n",
    "Show how many missing values exist per column."
   ]
  },
  {
   "cell_type": "code",
   "execution_count": null,
   "id": "824790b1",
   "metadata": {},
   "outputs": [],
   "source": [
    "# Missing values summary\n",
    "missing_summary = df.isna().sum()\n",
    "print(missing_summary)\n",
    "\n",
    "# Show rows with any missing values (first 10)\n",
    "df[df.isna().any(axis=1)].head(10)"
   ]
  },
  {
   "cell_type": "markdown",
   "id": "7f1f636d",
   "metadata": {},
   "source": [
    "## 4) Handle missing values\n",
    "\n",
    "Strategy used here:\n",
    "- For `temp`: fill missing values with **mean temperature per city** (fallback to global mean if city mean is NaN).\n",
    "- For `humidity`: fill missing values with **median humidity per city** (fallback to global median if needed).\n",
    "\n",
    "You can change strategies (drop, forward-fill, interpolation) depending on your use-case."
   ]
  },
  {
   "cell_type": "code",
   "execution_count": null,
   "id": "aa1a6548",
   "metadata": {},
   "outputs": [],
   "source": [
    "# Fill missing temp by city mean, fallback to global mean\n",
    "if 'temp' in df.columns and 'city' in df.columns:\n",
    "    city_temp_mean = df.groupby('city')['temp'].transform('mean')\n",
    "    global_temp_mean = df['temp'].mean()\n",
    "    df['temp'] = df['temp'].fillna(city_temp_mean)\n",
    "    df['temp'] = df['temp'].fillna(global_temp_mean)\n",
    "\n",
    "# Fill missing humidity by city median\n",
    "if 'humidity' in df.columns and 'city' in df.columns:\n",
    "    city_hum_median = df.groupby('city')['humidity'].transform('median')\n",
    "    global_hum_median = df['humidity'].median()\n",
    "    df['humidity'] = df['humidity'].fillna(city_hum_median)\n",
    "    df['humidity'] = df['humidity'].fillna(global_hum_median)\n",
    "\n",
    "print('After imputation, missing values:')\n",
    "print(df.isna().sum())\n",
    "\n",
    "df.head()"
   ]
  },
  {
   "cell_type": "markdown",
   "id": "f117345b",
   "metadata": {},
   "source": [
    "## 5) Find the hottest day (overall)\n",
    "\n",
    "We locate the row with the maximum temperature."
   ]
  },
  {
   "cell_type": "code",
   "execution_count": null,
   "id": "6d5f98d5",
   "metadata": {},
   "outputs": [],
   "source": [
    "# Hottest day overall\n",
    "if 'temp' in df.columns:\n",
    "    hottest_idx = df['temp'].idxmax()\n",
    "    hottest_row = df.loc[hottest_idx]\n",
    "    display(hottest_row.to_frame().T)\n",
    "    # Save as CSV\n",
    "    hottest_row.to_frame().T.to_csv('hottest_day_overall.csv', index=False)\n",
    "else:\n",
    "    print('No temp column present.')"
   ]
  },
  {
   "cell_type": "markdown",
   "id": "cc31aed3",
   "metadata": {},
   "source": [
    "## 6) Hottest day per city\n",
    "\n",
    "Group by city and find the day with the maximum temperature for each city."
   ]
  },
  {
   "cell_type": "code",
   "execution_count": null,
   "id": "4020694f",
   "metadata": {},
   "outputs": [],
   "source": [
    "# Hottest day per city\n",
    "hottest_per_city = None\n",
    "if 'temp' in df.columns and 'city' in df.columns:\n",
    "    # index of max temp per city\n",
    "    idx = df.groupby('city')['temp'].idxmax()\n",
    "    hottest_per_city = df.loc[idx].sort_values('city').reset_index(drop=True)\n",
    "    display(hottest_per_city)\n",
    "    hottest_per_city.to_csv('hottest_day_per_city.csv', index=False)\n",
    "else:\n",
    "    print('Required columns (city, temp) not found.')"
   ]
  },
  {
   "cell_type": "markdown",
   "id": "8fc7508a",
   "metadata": {},
   "source": [
    "## 7) Average temperature per city\n",
    "\n",
    "Compute mean temperature for each city and save the result."
   ]
  },
  {
   "cell_type": "code",
   "execution_count": null,
   "id": "aa1f8e3f",
   "metadata": {},
   "outputs": [],
   "source": [
    "# Average temp per city\n",
    "avg_temp = None\n",
    "if 'temp' in df.columns and 'city' in df.columns:\n",
    "    avg_temp = df.groupby('city')['temp'].mean().round(2).sort_values(ascending=False)\n",
    "    display(avg_temp)\n",
    "    avg_temp.to_csv('avg_temp_by_city.csv', header=['avg_temp'])\n",
    "else:\n",
    "    print('Required columns (city, temp) not found.')"
   ]
  },
  {
   "cell_type": "markdown",
   "id": "8d330b65",
   "metadata": {},
   "source": [
    "## 8) Plot average temperature by city (Matplotlib)\n",
    "\n",
    "One plot per cell, using Matplotlib (no explicit color settings)."
   ]
  },
  {
   "cell_type": "code",
   "execution_count": null,
   "id": "aaaf0e1e",
   "metadata": {},
   "outputs": [],
   "source": [
    "# Plot average temp by city\n",
    "if avg_temp is not None:\n",
    "    ax = avg_temp.plot(kind='bar')\n",
    "    ax.set_title('Average Temperature by City')\n",
    "    ax.set_ylabel('Temperature (°C)')\n",
    "    ax.set_xlabel('City')\n",
    "    plt.tight_layout()\n",
    "    plt.show()\n",
    "else:\n",
    "    print('No average temperature data available to plot.')"
   ]
  },
  {
   "cell_type": "markdown",
   "id": "d127a4e6",
   "metadata": {},
   "source": [
    "## 9) Save cleaned dataset (optional)\n",
    "\n",
    "Save the cleaned and imputed dataset for further use."
   ]
  },
  {
   "cell_type": "code",
   "execution_count": null,
   "id": "e911370d",
   "metadata": {},
   "outputs": [],
   "source": [
    "# Save cleaned dataset\n",
    "df.to_csv('weather_cleaned.csv', index=False)\n",
    "print('Saved weather_cleaned.csv (rows:', len(df), ')')"
   ]
  }
 ],
 "metadata": {},
 "nbformat": 4,
 "nbformat_minor": 5
}
