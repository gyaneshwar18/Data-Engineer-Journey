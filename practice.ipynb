{
 "cells": [
  {
   "cell_type": "code",
   "execution_count": 6,
   "id": "493ba3ab",
   "metadata": {},
   "outputs": [
    {
     "name": "stdout",
     "output_type": "stream",
     "text": [
      "name : Surya\n",
      "age : 22\n",
      "course : Python\n"
     ]
    }
   ],
   "source": [
    "student = {\n",
    "    \"name\": \"Surya\",\n",
    "    \"age\": 22,\n",
    "    \"course\": \"Python\"\n",
    "}\n",
    "\n",
    "# print(student[\"name\"])      # Surya\n",
    "# print(student.get(\"name\"))\n",
    "# print(student.get(\"age\"))   # 22\n",
    "\n",
    "\n",
    "# # # Add / Update\n",
    "# # student[\"grade\"] = \"A\"\n",
    "# # student[\"age\"] = 23\n",
    "\n",
    "# # # Remove\n",
    "# # student.pop(\"course\")\n",
    "\n",
    "# # Loop\n",
    "for key, value in student.items():\n",
    "  print(key, \":\", value)\n"
   ]
  },
  {
   "cell_type": "code",
   "execution_count": 7,
   "id": "24668ad7",
   "metadata": {},
   "outputs": [
    {
     "data": {
      "text/plain": [
       "[1, 2, 3]"
      ]
     },
     "execution_count": 7,
     "metadata": {},
     "output_type": "execute_result"
    }
   ],
   "source": [
    "n=[1,2,2,3]\n",
    "nums=list(set(n))\n",
    "nums"
   ]
  },
  {
   "cell_type": "code",
   "execution_count": 9,
   "id": "9b581213",
   "metadata": {},
   "outputs": [
    {
     "data": {
      "text/plain": [
       "5"
      ]
     },
     "execution_count": 9,
     "metadata": {},
     "output_type": "execute_result"
    }
   ],
   "source": [
    "nums=[1,3,2,5,7]\n",
    "nums.sort()\n",
    "nums[-2]"
   ]
  },
  {
   "cell_type": "code",
   "execution_count": 10,
   "id": "36d84a45",
   "metadata": {},
   "outputs": [
    {
     "name": "stdout",
     "output_type": "stream",
     "text": [
      "{1, 2, 3}\n",
      "{1, 2, 3, 4, 5}\n",
      "{3}\n",
      "{1, 2}\n"
     ]
    }
   ],
   "source": [
    "nums = {1, 2, 3, 2, 1}\n",
    "print(nums)   # {1, 2, 3} (duplicates removed)\n",
    "\n",
    "# Add & Remove\n",
    "nums.add(4)\n",
    "nums.remove(2)\n",
    "\n",
    "# Set operations\n",
    "a = {1, 2, 3}\n",
    "b = {3, 4, 5}\n",
    "\n",
    "print(a | b)  #union\n",
    "print(a & b)  #intersection\n",
    "print(a-b)    #difference\n",
    "\n",
    " "
   ]
  },
  {
   "cell_type": "code",
   "execution_count": 15,
   "id": "5e182449",
   "metadata": {},
   "outputs": [
    {
     "name": "stdout",
     "output_type": "stream",
     "text": [
      "{'Surya': 'name', 'Python': 'course', 'A': 'grade'}\n"
     ]
    }
   ],
   "source": [
    "student = {\"name\": \"Surya\", \"course\": \"Python\", \"grade\": \"A\"}\n",
    "inverted = {v:k for k, v in student.items()}\n",
    "print(inverted)\n"
   ]
  },
  {
   "cell_type": "code",
   "execution_count": null,
   "id": "7e8e8534",
   "metadata": {},
   "outputs": [],
   "source": []
  }
 ],
 "metadata": {
  "kernelspec": {
   "display_name": "Python 3",
   "language": "python",
   "name": "python3"
  },
  "language_info": {
   "codemirror_mode": {
    "name": "ipython",
    "version": 3
   },
   "file_extension": ".py",
   "mimetype": "text/x-python",
   "name": "python",
   "nbconvert_exporter": "python",
   "pygments_lexer": "ipython3",
   "version": "3.12.3"
  }
 },
 "nbformat": 4,
 "nbformat_minor": 5
}
